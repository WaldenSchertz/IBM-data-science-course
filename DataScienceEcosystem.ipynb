{
 "cells": [
  {
   "cell_type": "markdown",
   "id": "f96db8fc-3bf2-4b2b-bd1d-6bf1d0f04b7e",
   "metadata": {},
   "source": [
    "# Data Science Tools and Ecosystem"
   ]
  },
  {
   "cell_type": "markdown",
   "id": "65b97fb8-4e8e-4ff4-9bb5-91f67584cc70",
   "metadata": {},
   "source": [
    "In this notebook, Data Science Tools and Ecosystem are summarized."
   ]
  },
  {
   "cell_type": "markdown",
   "id": "2fcc73f8-c70d-44ff-bdff-eeffd7dbad54",
   "metadata": {},
   "source": [
    "Some of the popular languages that Data Scientists use are:\n",
    "1. Python\n",
    "2. R\n",
    "3. SQL\n",
    "4. C++\n",
    "5. Scala\n",
    "6. Julia"
   ]
  },
  {
   "cell_type": "markdown",
   "id": "33e83c32-bdf4-4368-8ab1-7439c0e916a7",
   "metadata": {},
   "source": [
    "Some of the libraries commonly used by Data Scientists include:\n",
    "1. Pandas\n",
    "2. NumPy\n",
    "3. Matplotlib\n",
    "4. Seaborn"
   ]
  },
  {
   "cell_type": "markdown",
   "id": "1be21dc2-191b-4ff8-b56f-f45cae429120",
   "metadata": {},
   "source": [
    "| Data Science Tools |\n",
    "| ------------------ |\n",
    "| Jupyter Notebooks |\n",
    "| RStudio |\n",
    "| Apache Hadoop |"
   ]
  },
  {
   "cell_type": "markdown",
   "id": "70a4c656-5aff-4956-8eea-c72a0de7b735",
   "metadata": {},
   "source": [
    "### Below are a few examples of evaluating arithmetic expressions in Python"
   ]
  },
  {
   "cell_type": "code",
   "execution_count": 2,
   "id": "c97923bf-2c94-46e2-91cf-77c9868f3691",
   "metadata": {
    "tags": []
   },
   "outputs": [
    {
     "data": {
      "text/plain": [
       "17"
      ]
     },
     "execution_count": 2,
     "metadata": {},
     "output_type": "execute_result"
    }
   ],
   "source": [
    "# This a simple arithmetic expression to mutiply then add integers\n",
    "\n",
    "(3*4)+5"
   ]
  },
  {
   "cell_type": "code",
   "execution_count": 2,
   "id": "114bc4b3-b35a-4092-81a8-5d50ff726790",
   "metadata": {
    "tags": []
   },
   "outputs": [
    {
     "name": "stdout",
     "output_type": "stream",
     "text": [
      "3.3333333333333335\n"
     ]
    }
   ],
   "source": [
    "# This will convert 200 minutes to hours by diving by 60\n",
    "\n",
    "minutes = 200\n",
    "hours = minutes / 60\n",
    "print(hours)"
   ]
  },
  {
   "cell_type": "markdown",
   "id": "4a3e679d-71ba-4d63-89d5-78b17f5daad6",
   "metadata": {},
   "source": [
    "__Objectives__\n",
    "* List popular languages used in data science\n",
    "* Learn about open-source tools used in data science\n",
    "* Get an introduction to libraries commonly used in Python for data science\n",
    "* Learn how to use Jupyter Notebooks\n",
    "* Learn how to use GitHub"
   ]
  },
  {
   "cell_type": "markdown",
   "id": "dbbd26b3-ebf3-4c9c-91a4-5e51290a0374",
   "metadata": {},
   "source": [
    "## Author\n",
    "Jeremy Walden-Schertz"
   ]
  },
  {
   "cell_type": "code",
   "execution_count": null,
   "id": "72bc29a6-b086-45bc-8de1-ad47b123f71b",
   "metadata": {},
   "outputs": [],
   "source": []
  }
 ],
 "metadata": {
  "kernelspec": {
   "display_name": "Python",
   "language": "python",
   "name": "conda-env-python-py"
  },
  "language_info": {
   "codemirror_mode": {
    "name": "ipython",
    "version": 3
   },
   "file_extension": ".py",
   "mimetype": "text/x-python",
   "name": "python",
   "nbconvert_exporter": "python",
   "pygments_lexer": "ipython3",
   "version": "3.7.12"
  }
 },
 "nbformat": 4,
 "nbformat_minor": 5
}
